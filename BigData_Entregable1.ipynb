{
  "nbformat": 4,
  "nbformat_minor": 0,
  "metadata": {
    "colab": {
      "provenance": []
    },
    "kernelspec": {
      "name": "python3",
      "display_name": "Python 3"
    },
    "language_info": {
      "name": "python"
    }
  },
  "cells": [
    {
      "cell_type": "code",
      "execution_count": 2,
      "metadata": {
        "colab": {
          "base_uri": "https://localhost:8080/",
          "height": 643
        },
        "id": "JIi4lGc8h6ip",
        "outputId": "984364cd-73bf-4fc9-a7af-4099e15ffa88"
      },
      "outputs": [
        {
          "output_type": "stream",
          "name": "stdout",
          "text": [
            "Get:1 https://developer.download.nvidia.com/compute/cuda/repos/ubuntu2204/x86_64  InRelease [1,581 B]\n",
            "Get:2 http://security.ubuntu.com/ubuntu jammy-security InRelease [110 kB]\n",
            "Get:3 https://developer.download.nvidia.com/compute/cuda/repos/ubuntu2204/x86_64  Packages [589 kB]\n",
            "Get:4 https://cloud.r-project.org/bin/linux/ubuntu jammy-cran40/ InRelease [3,626 B]\n",
            "Hit:5 https://ppa.launchpadcontent.net/c2d4u.team/c2d4u4.0+/ubuntu jammy InRelease\n",
            "Get:6 http://security.ubuntu.com/ubuntu jammy-security/universe amd64 Packages [1,012 kB]\n",
            "Hit:7 https://ppa.launchpadcontent.net/deadsnakes/ppa/ubuntu jammy InRelease\n",
            "Get:8 http://security.ubuntu.com/ubuntu jammy-security/main amd64 Packages [1,185 kB]\n",
            "Hit:9 https://ppa.launchpadcontent.net/graphics-drivers/ppa/ubuntu jammy InRelease\n",
            "Get:10 http://security.ubuntu.com/ubuntu jammy-security/restricted amd64 Packages [1,389 kB]\n",
            "Hit:11 https://ppa.launchpadcontent.net/ubuntugis/ppa/ubuntu jammy InRelease\n",
            "Hit:12 http://archive.ubuntu.com/ubuntu jammy InRelease\n",
            "Get:13 http://archive.ubuntu.com/ubuntu jammy-updates InRelease [119 kB]\n",
            "Get:14 http://archive.ubuntu.com/ubuntu jammy-backports InRelease [109 kB]\n",
            "Get:15 http://archive.ubuntu.com/ubuntu jammy-updates/main amd64 Packages [1,455 kB]\n",
            "Get:16 http://archive.ubuntu.com/ubuntu jammy-updates/universe amd64 Packages [1,278 kB]\n",
            "Get:17 http://archive.ubuntu.com/ubuntu jammy-updates/restricted amd64 Packages [1,415 kB]\n",
            "Get:18 http://archive.ubuntu.com/ubuntu jammy-backports/universe amd64 Packages [32.6 kB]\n",
            "Fetched 8,699 kB in 9s (989 kB/s)\n",
            "Reading package lists... Done\n",
            "Building dependency tree... Done\n",
            "Reading state information... Done\n",
            "22 packages can be upgraded. Run 'apt list --upgradable' to see them.\n",
            "Collecting pyspark\n",
            "  Downloading pyspark-3.5.0.tar.gz (316.9 MB)\n",
            "\u001b[2K     \u001b[90m━━━━━━━━━━━━━━━━━━━━━━━━━━━━━━━━━━━━━━━━\u001b[0m \u001b[32m316.9/316.9 MB\u001b[0m \u001b[31m4.0 MB/s\u001b[0m eta \u001b[36m0:00:00\u001b[0m\n",
            "\u001b[?25h  Preparing metadata (setup.py) ... \u001b[?25l\u001b[?25hdone\n",
            "Requirement already satisfied: py4j==0.10.9.7 in /usr/local/lib/python3.10/dist-packages (from pyspark) (0.10.9.7)\n",
            "Building wheels for collected packages: pyspark\n",
            "  Building wheel for pyspark (setup.py) ... \u001b[?25l\u001b[?25hdone\n",
            "  Created wheel for pyspark: filename=pyspark-3.5.0-py2.py3-none-any.whl size=317425344 sha256=9d4696140659eab8653c964adc063da76a5fc35f195e3e0b5c396463e079df12\n",
            "  Stored in directory: /root/.cache/pip/wheels/41/4e/10/c2cf2467f71c678cfc8a6b9ac9241e5e44a01940da8fbb17fc\n",
            "Successfully built pyspark\n",
            "Installing collected packages: pyspark\n",
            "Successfully installed pyspark-3.5.0\n"
          ]
        },
        {
          "output_type": "execute_result",
          "data": {
            "text/plain": [
              "'/content/spark-3.5.0-bin-hadoop3'"
            ],
            "application/vnd.google.colaboratory.intrinsic+json": {
              "type": "string"
            }
          },
          "metadata": {},
          "execution_count": 2
        }
      ],
      "source": [
        "#Bibliotecas para poder trabajar con Spark\n",
        "!sudo apt update\n",
        "!apt-get install openjdk-8-jdk-headless -qq > /dev/null\n",
        "!wget -q https://downloads.apache.org/spark/spark-3.5.0/spark-3.5.0-bin-hadoop3.tgz\n",
        "!tar xf spark-3.5.0-bin-hadoop3.tgz\n",
        "#Configuración de Spark con Python\n",
        "!pip install -q findspark\n",
        "!pip install pyspark\n",
        "\n",
        "#Estableciendo variable de entorno\n",
        "import os\n",
        "os.environ[\"JAVA_HOME\"] = \"/usr/lib/jvm/java-8-openjdk-amd64\"\n",
        "os.environ[\"SPARK_HOME\"] = \"/content/spark-3.5.0-bin-hadoop3\"\n",
        "\n",
        "#Buscando e inicializando la instalación de Spark\n",
        "import findspark\n",
        "findspark.init()\n",
        "findspark.find()"
      ]
    },
    {
      "cell_type": "code",
      "source": [
        "from pyspark.sql import SparkSession\n",
        "import pyspark.sql.functions as f\n",
        "from pyspark.ml.feature import StringIndexer, OneHotEncoder\n",
        "from pyspark.ml.feature import VectorAssembler\n",
        "from pyspark.ml.classification import LogisticRegression"
      ],
      "metadata": {
        "id": "m99VWc0NibW4"
      },
      "execution_count": 67,
      "outputs": []
    },
    {
      "cell_type": "code",
      "source": [
        "spark_session = SparkSession.builder.appName('Entregable1').getOrCreate()\n",
        "spark_session"
      ],
      "metadata": {
        "colab": {
          "base_uri": "https://localhost:8080/",
          "height": 219
        },
        "id": "XEezA_sXiex4",
        "outputId": "b908cb24-9dd0-4d01-e32f-ddec5fe0132a"
      },
      "execution_count": 4,
      "outputs": [
        {
          "output_type": "execute_result",
          "data": {
            "text/plain": [
              "<pyspark.sql.session.SparkSession at 0x7efefd37aad0>"
            ],
            "text/html": [
              "\n",
              "            <div>\n",
              "                <p><b>SparkSession - in-memory</b></p>\n",
              "                \n",
              "        <div>\n",
              "            <p><b>SparkContext</b></p>\n",
              "\n",
              "            <p><a href=\"http://1e80411bb0fb:4040\">Spark UI</a></p>\n",
              "\n",
              "            <dl>\n",
              "              <dt>Version</dt>\n",
              "                <dd><code>v3.5.0</code></dd>\n",
              "              <dt>Master</dt>\n",
              "                <dd><code>local[*]</code></dd>\n",
              "              <dt>AppName</dt>\n",
              "                <dd><code>Entregable1</code></dd>\n",
              "            </dl>\n",
              "        </div>\n",
              "        \n",
              "            </div>\n",
              "        "
            ]
          },
          "metadata": {},
          "execution_count": 4
        }
      ]
    },
    {
      "cell_type": "code",
      "source": [
        "from google.colab import drive\n",
        "drive.mount('/content/drive')"
      ],
      "metadata": {
        "colab": {
          "base_uri": "https://localhost:8080/"
        },
        "id": "XgHD-kSYikmP",
        "outputId": "a3862e73-bd89-4dd9-a4f1-fc5992690db4"
      },
      "execution_count": 5,
      "outputs": [
        {
          "output_type": "stream",
          "name": "stdout",
          "text": [
            "Mounted at /content/drive\n"
          ]
        }
      ]
    },
    {
      "cell_type": "code",
      "source": [
        "df = spark_session.read.csv('/content/drive/My Drive/Colab Notebooks/bank.csv', inferSchema=True, header=True)"
      ],
      "metadata": {
        "id": "andDNWmc8bjl"
      },
      "execution_count": 45,
      "outputs": []
    },
    {
      "cell_type": "code",
      "source": [
        "df.show()"
      ],
      "metadata": {
        "colab": {
          "base_uri": "https://localhost:8080/"
        },
        "id": "Hax0ReMQ91kr",
        "outputId": "1c1c633d-7ce8-44b8-de28-fe06839d2261"
      },
      "execution_count": 46,
      "outputs": [
        {
          "output_type": "stream",
          "name": "stdout",
          "text": [
            "+---+-----------+--------+---------+-------+-------+-------+----+-------+---+-----+--------+--------+-----+--------+--------+-------+\n",
            "|age|        job| marital|education|default|balance|housing|loan|contact|day|month|duration|campaign|pdays|previous|poutcome|deposit|\n",
            "+---+-----------+--------+---------+-------+-------+-------+----+-------+---+-----+--------+--------+-----+--------+--------+-------+\n",
            "| 59|     admin.| married|secondary|     no|   2343|    yes|  no|unknown|  5|  may|    1042|       1|   -1|       0| unknown|    yes|\n",
            "| 56|     admin.| married|secondary|     no|     45|     no|  no|unknown|  5|  may|    1467|       1|   -1|       0| unknown|    yes|\n",
            "| 41| technician| married|secondary|     no|   1270|    yes|  no|unknown|  5|  may|    1389|       1|   -1|       0| unknown|    yes|\n",
            "| 55|   services| married|secondary|     no|   2476|    yes|  no|unknown|  5|  may|     579|       1|   -1|       0| unknown|    yes|\n",
            "| 54|     admin.| married| tertiary|     no|    184|     no|  no|unknown|  5|  may|     673|       2|   -1|       0| unknown|    yes|\n",
            "| 42| management|  single| tertiary|     no|      0|    yes| yes|unknown|  5|  may|     562|       2|   -1|       0| unknown|    yes|\n",
            "| 56| management| married| tertiary|     no|    830|    yes| yes|unknown|  6|  may|    1201|       1|   -1|       0| unknown|    yes|\n",
            "| 60|    retired|divorced|secondary|     no|    545|    yes|  no|unknown|  6|  may|    1030|       1|   -1|       0| unknown|    yes|\n",
            "| 37| technician| married|secondary|     no|      1|    yes|  no|unknown|  6|  may|     608|       1|   -1|       0| unknown|    yes|\n",
            "| 28|   services|  single|secondary|     no|   5090|    yes|  no|unknown|  6|  may|    1297|       3|   -1|       0| unknown|    yes|\n",
            "| 38|     admin.|  single|secondary|     no|    100|    yes|  no|unknown|  7|  may|     786|       1|   -1|       0| unknown|    yes|\n",
            "| 30|blue-collar| married|secondary|     no|    309|    yes|  no|unknown|  7|  may|    1574|       2|   -1|       0| unknown|    yes|\n",
            "| 29| management| married| tertiary|     no|    199|    yes| yes|unknown|  7|  may|    1689|       4|   -1|       0| unknown|    yes|\n",
            "| 46|blue-collar|  single| tertiary|     no|    460|    yes|  no|unknown|  7|  may|    1102|       2|   -1|       0| unknown|    yes|\n",
            "| 31| technician|  single| tertiary|     no|    703|    yes|  no|unknown|  8|  may|     943|       2|   -1|       0| unknown|    yes|\n",
            "| 35| management|divorced| tertiary|     no|   3837|    yes|  no|unknown|  8|  may|    1084|       1|   -1|       0| unknown|    yes|\n",
            "| 32|blue-collar|  single|  primary|     no|    611|    yes|  no|unknown|  8|  may|     541|       3|   -1|       0| unknown|    yes|\n",
            "| 49|   services| married|secondary|     no|     -8|    yes|  no|unknown|  8|  may|    1119|       1|   -1|       0| unknown|    yes|\n",
            "| 41|     admin.| married|secondary|     no|     55|    yes|  no|unknown|  8|  may|    1120|       2|   -1|       0| unknown|    yes|\n",
            "| 49|     admin.|divorced|secondary|     no|    168|    yes| yes|unknown|  8|  may|     513|       1|   -1|       0| unknown|    yes|\n",
            "+---+-----------+--------+---------+-------+-------+-------+----+-------+---+-----+--------+--------+-----+--------+--------+-------+\n",
            "only showing top 20 rows\n",
            "\n"
          ]
        }
      ]
    },
    {
      "cell_type": "code",
      "source": [
        "df.printSchema()"
      ],
      "metadata": {
        "colab": {
          "base_uri": "https://localhost:8080/"
        },
        "id": "K1THjO8f97k8",
        "outputId": "6cbbf341-4893-487c-e1e7-246568f8d3f0"
      },
      "execution_count": 47,
      "outputs": [
        {
          "output_type": "stream",
          "name": "stdout",
          "text": [
            "root\n",
            " |-- age: integer (nullable = true)\n",
            " |-- job: string (nullable = true)\n",
            " |-- marital: string (nullable = true)\n",
            " |-- education: string (nullable = true)\n",
            " |-- default: string (nullable = true)\n",
            " |-- balance: integer (nullable = true)\n",
            " |-- housing: string (nullable = true)\n",
            " |-- loan: string (nullable = true)\n",
            " |-- contact: string (nullable = true)\n",
            " |-- day: integer (nullable = true)\n",
            " |-- month: string (nullable = true)\n",
            " |-- duration: integer (nullable = true)\n",
            " |-- campaign: integer (nullable = true)\n",
            " |-- pdays: integer (nullable = true)\n",
            " |-- previous: integer (nullable = true)\n",
            " |-- poutcome: string (nullable = true)\n",
            " |-- deposit: string (nullable = true)\n",
            "\n"
          ]
        }
      ]
    },
    {
      "cell_type": "code",
      "source": [
        "data = df.drop(*['contact', 'day', 'month', 'default'])\n",
        "data.columns"
      ],
      "metadata": {
        "colab": {
          "base_uri": "https://localhost:8080/"
        },
        "id": "_B9vHIXX-CPj",
        "outputId": "0921e467-bdde-4866-b511-400833d2f1ee"
      },
      "execution_count": 48,
      "outputs": [
        {
          "output_type": "execute_result",
          "data": {
            "text/plain": [
              "['age',\n",
              " 'job',\n",
              " 'marital',\n",
              " 'education',\n",
              " 'balance',\n",
              " 'housing',\n",
              " 'loan',\n",
              " 'duration',\n",
              " 'campaign',\n",
              " 'pdays',\n",
              " 'previous',\n",
              " 'poutcome',\n",
              " 'deposit']"
            ]
          },
          "metadata": {},
          "execution_count": 48
        }
      ]
    },
    {
      "cell_type": "code",
      "source": [
        "data.describe().show()"
      ],
      "metadata": {
        "colab": {
          "base_uri": "https://localhost:8080/"
        },
        "id": "furw2LSt-TJw",
        "outputId": "86b02217-5dba-4170-97aa-eeab23bf2418"
      },
      "execution_count": 49,
      "outputs": [
        {
          "output_type": "stream",
          "name": "stdout",
          "text": [
            "+-------+------------------+-------+--------+---------+------------------+-------+-----+------------------+------------------+------------------+------------------+--------+-------+\n",
            "|summary|               age|    job| marital|education|           balance|housing| loan|          duration|          campaign|             pdays|          previous|poutcome|deposit|\n",
            "+-------+------------------+-------+--------+---------+------------------+-------+-----+------------------+------------------+------------------+------------------+--------+-------+\n",
            "|  count|             11162|  11162|   11162|    11162|             11162|  11162|11162|             11162|             11162|             11162|             11162|   11162|  11162|\n",
            "|   mean|41.231947679627304|   NULL|    NULL|     NULL|1528.5385235620856|   NULL| NULL|371.99381831213043| 2.508421429851281| 51.33040673714388|0.8325568894463358|    NULL|   NULL|\n",
            "| stddev|11.913369192215518|   NULL|    NULL|     NULL| 3225.413325946149|   NULL| NULL|347.12838571630687|2.7220771816614824|108.75828197197717| 2.292007218670508|    NULL|   NULL|\n",
            "|    min|                18| admin.|divorced|  primary|             -6847|     no|   no|                 2|                 1|                -1|                 0| failure|     no|\n",
            "|    max|                95|unknown|  single|  unknown|             81204|    yes|  yes|              3881|                63|               854|                58| unknown|    yes|\n",
            "+-------+------------------+-------+--------+---------+------------------+-------+-----+------------------+------------------+------------------+------------------+--------+-------+\n",
            "\n"
          ]
        }
      ]
    },
    {
      "cell_type": "code",
      "source": [
        "# Para contar cuantos null hay en cada columna\n",
        "data_agg = data.agg(*[f.count(f.when(f.isnull(c), c)).alias(c) for c in data.columns])\n",
        "data_agg.show()"
      ],
      "metadata": {
        "colab": {
          "base_uri": "https://localhost:8080/"
        },
        "id": "QkM95cVg-j-z",
        "outputId": "3a26e561-d4c9-49d6-b0a3-917c7cc87f7c"
      },
      "execution_count": 50,
      "outputs": [
        {
          "output_type": "stream",
          "name": "stdout",
          "text": [
            "+---+---+-------+---------+-------+-------+----+--------+--------+-----+--------+--------+-------+\n",
            "|age|job|marital|education|balance|housing|loan|duration|campaign|pdays|previous|poutcome|deposit|\n",
            "+---+---+-------+---------+-------+-------+----+--------+--------+-----+--------+--------+-------+\n",
            "|  0|  0|      0|        0|      0|      0|   0|       0|       0|    0|       0|       0|      0|\n",
            "+---+---+-------+---------+-------+-------+----+--------+--------+-----+--------+--------+-------+\n",
            "\n"
          ]
        }
      ]
    },
    {
      "cell_type": "code",
      "source": [
        "# value counts of columns\n",
        "data.groupBy('job').count().show()\n",
        "print()\n",
        "data.groupBy('marital').count().show()\n",
        "print()\n",
        "data.groupBy('education').count().show()\n",
        "print()\n",
        "data.groupBy('loan').count().show()\n",
        "print()\n",
        "data.groupBy('poutcome').count().show()\n",
        "print()\n",
        "data.groupBy('deposit').count().show()"
      ],
      "metadata": {
        "colab": {
          "base_uri": "https://localhost:8080/"
        },
        "id": "wmifDGfD_4LS",
        "outputId": "bb0344da-e96f-46bb-c48c-af09b61b3143"
      },
      "execution_count": 51,
      "outputs": [
        {
          "output_type": "stream",
          "name": "stdout",
          "text": [
            "+-------------+-----+\n",
            "|          job|count|\n",
            "+-------------+-----+\n",
            "|   management| 2566|\n",
            "|      retired|  778|\n",
            "|      unknown|   70|\n",
            "|self-employed|  405|\n",
            "|      student|  360|\n",
            "|  blue-collar| 1944|\n",
            "| entrepreneur|  328|\n",
            "|       admin.| 1334|\n",
            "|   technician| 1823|\n",
            "|     services|  923|\n",
            "|    housemaid|  274|\n",
            "|   unemployed|  357|\n",
            "+-------------+-----+\n",
            "\n",
            "\n",
            "+--------+-----+\n",
            "| marital|count|\n",
            "+--------+-----+\n",
            "|divorced| 1293|\n",
            "| married| 6351|\n",
            "|  single| 3518|\n",
            "+--------+-----+\n",
            "\n",
            "\n",
            "+---------+-----+\n",
            "|education|count|\n",
            "+---------+-----+\n",
            "|  unknown|  497|\n",
            "| tertiary| 3689|\n",
            "|secondary| 5476|\n",
            "|  primary| 1500|\n",
            "+---------+-----+\n",
            "\n",
            "\n",
            "+----+-----+\n",
            "|loan|count|\n",
            "+----+-----+\n",
            "|  no| 9702|\n",
            "| yes| 1460|\n",
            "+----+-----+\n",
            "\n",
            "\n",
            "+--------+-----+\n",
            "|poutcome|count|\n",
            "+--------+-----+\n",
            "| success| 1071|\n",
            "| unknown| 8326|\n",
            "|   other|  537|\n",
            "| failure| 1228|\n",
            "+--------+-----+\n",
            "\n",
            "\n",
            "+-------+-----+\n",
            "|deposit|count|\n",
            "+-------+-----+\n",
            "|     no| 5873|\n",
            "|    yes| 5289|\n",
            "+-------+-----+\n",
            "\n"
          ]
        }
      ]
    },
    {
      "cell_type": "code",
      "source": [
        "data.dtypes"
      ],
      "metadata": {
        "colab": {
          "base_uri": "https://localhost:8080/"
        },
        "id": "zH0Z9pEnAQSB",
        "outputId": "6c2907d8-29ca-4978-ebb5-33cb43249584"
      },
      "execution_count": 52,
      "outputs": [
        {
          "output_type": "execute_result",
          "data": {
            "text/plain": [
              "[('age', 'int'),\n",
              " ('job', 'string'),\n",
              " ('marital', 'string'),\n",
              " ('education', 'string'),\n",
              " ('balance', 'int'),\n",
              " ('housing', 'string'),\n",
              " ('loan', 'string'),\n",
              " ('duration', 'int'),\n",
              " ('campaign', 'int'),\n",
              " ('pdays', 'int'),\n",
              " ('previous', 'int'),\n",
              " ('poutcome', 'string'),\n",
              " ('deposit', 'string')]"
            ]
          },
          "metadata": {},
          "execution_count": 52
        }
      ]
    },
    {
      "cell_type": "code",
      "source": [
        "# Crear objetos StringIndexer para cada columna categórica\n",
        "indexer_job = StringIndexer(inputCol='job', outputCol='job_Index')\n",
        "indexer_marital = StringIndexer(inputCol='marital',outputCol='marital_Index')\n",
        "indexer_education = StringIndexer(inputCol='education',outputCol='education_Index')\n",
        "indexer_housing = StringIndexer(inputCol='housing',outputCol='housing_Index')\n",
        "indexer_loan = StringIndexer(inputCol='loan',outputCol='loan_Index')\n",
        "indexer_poutcome = StringIndexer(inputCol='poutcome',outputCol='poutcome_Index')\n",
        "indexer_deposit = StringIndexer(inputCol='deposit',outputCol='deposit_Index')\n",
        "\n",
        "# Transformar los datos aplicando la codificación a cada columna\n",
        "data = indexer_job.fit(data).transform(data)\n",
        "data = indexer_marital.fit(data).transform(data)\n",
        "data = indexer_education.fit(data).transform(data)\n",
        "data = indexer_housing.fit(data).transform(data)\n",
        "data = indexer_loan.fit(data).transform(data)\n",
        "data = indexer_poutcome.fit(data).transform(data)\n",
        "data = indexer_deposit.fit(data).transform(data)"
      ],
      "metadata": {
        "id": "o_4ekqu7AkMQ"
      },
      "execution_count": 53,
      "outputs": []
    },
    {
      "cell_type": "code",
      "source": [
        "data.select('*').show()"
      ],
      "metadata": {
        "colab": {
          "base_uri": "https://localhost:8080/"
        },
        "id": "eKrzQ9UMCAiF",
        "outputId": "0f4c9b1b-cd62-45ec-d0d1-ee00c204b840"
      },
      "execution_count": 54,
      "outputs": [
        {
          "output_type": "stream",
          "name": "stdout",
          "text": [
            "+---+-----------+--------+---------+-------+-------+----+--------+--------+-----+--------+--------+-------+---------+-------------+---------------+-------------+----------+--------------+-------------+\n",
            "|age|        job| marital|education|balance|housing|loan|duration|campaign|pdays|previous|poutcome|deposit|job_Index|marital_Index|education_Index|housing_Index|loan_Index|poutcome_Index|deposit_Index|\n",
            "+---+-----------+--------+---------+-------+-------+----+--------+--------+-----+--------+--------+-------+---------+-------------+---------------+-------------+----------+--------------+-------------+\n",
            "| 59|     admin.| married|secondary|   2343|    yes|  no|    1042|       1|   -1|       0| unknown|    yes|      3.0|          0.0|            0.0|          1.0|       0.0|           0.0|          1.0|\n",
            "| 56|     admin.| married|secondary|     45|     no|  no|    1467|       1|   -1|       0| unknown|    yes|      3.0|          0.0|            0.0|          0.0|       0.0|           0.0|          1.0|\n",
            "| 41| technician| married|secondary|   1270|    yes|  no|    1389|       1|   -1|       0| unknown|    yes|      2.0|          0.0|            0.0|          1.0|       0.0|           0.0|          1.0|\n",
            "| 55|   services| married|secondary|   2476|    yes|  no|     579|       1|   -1|       0| unknown|    yes|      4.0|          0.0|            0.0|          1.0|       0.0|           0.0|          1.0|\n",
            "| 54|     admin.| married| tertiary|    184|     no|  no|     673|       2|   -1|       0| unknown|    yes|      3.0|          0.0|            1.0|          0.0|       0.0|           0.0|          1.0|\n",
            "| 42| management|  single| tertiary|      0|    yes| yes|     562|       2|   -1|       0| unknown|    yes|      0.0|          1.0|            1.0|          1.0|       1.0|           0.0|          1.0|\n",
            "| 56| management| married| tertiary|    830|    yes| yes|    1201|       1|   -1|       0| unknown|    yes|      0.0|          0.0|            1.0|          1.0|       1.0|           0.0|          1.0|\n",
            "| 60|    retired|divorced|secondary|    545|    yes|  no|    1030|       1|   -1|       0| unknown|    yes|      5.0|          2.0|            0.0|          1.0|       0.0|           0.0|          1.0|\n",
            "| 37| technician| married|secondary|      1|    yes|  no|     608|       1|   -1|       0| unknown|    yes|      2.0|          0.0|            0.0|          1.0|       0.0|           0.0|          1.0|\n",
            "| 28|   services|  single|secondary|   5090|    yes|  no|    1297|       3|   -1|       0| unknown|    yes|      4.0|          1.0|            0.0|          1.0|       0.0|           0.0|          1.0|\n",
            "| 38|     admin.|  single|secondary|    100|    yes|  no|     786|       1|   -1|       0| unknown|    yes|      3.0|          1.0|            0.0|          1.0|       0.0|           0.0|          1.0|\n",
            "| 30|blue-collar| married|secondary|    309|    yes|  no|    1574|       2|   -1|       0| unknown|    yes|      1.0|          0.0|            0.0|          1.0|       0.0|           0.0|          1.0|\n",
            "| 29| management| married| tertiary|    199|    yes| yes|    1689|       4|   -1|       0| unknown|    yes|      0.0|          0.0|            1.0|          1.0|       1.0|           0.0|          1.0|\n",
            "| 46|blue-collar|  single| tertiary|    460|    yes|  no|    1102|       2|   -1|       0| unknown|    yes|      1.0|          1.0|            1.0|          1.0|       0.0|           0.0|          1.0|\n",
            "| 31| technician|  single| tertiary|    703|    yes|  no|     943|       2|   -1|       0| unknown|    yes|      2.0|          1.0|            1.0|          1.0|       0.0|           0.0|          1.0|\n",
            "| 35| management|divorced| tertiary|   3837|    yes|  no|    1084|       1|   -1|       0| unknown|    yes|      0.0|          2.0|            1.0|          1.0|       0.0|           0.0|          1.0|\n",
            "| 32|blue-collar|  single|  primary|    611|    yes|  no|     541|       3|   -1|       0| unknown|    yes|      1.0|          1.0|            2.0|          1.0|       0.0|           0.0|          1.0|\n",
            "| 49|   services| married|secondary|     -8|    yes|  no|    1119|       1|   -1|       0| unknown|    yes|      4.0|          0.0|            0.0|          1.0|       0.0|           0.0|          1.0|\n",
            "| 41|     admin.| married|secondary|     55|    yes|  no|    1120|       2|   -1|       0| unknown|    yes|      3.0|          0.0|            0.0|          1.0|       0.0|           0.0|          1.0|\n",
            "| 49|     admin.|divorced|secondary|    168|    yes| yes|     513|       1|   -1|       0| unknown|    yes|      3.0|          2.0|            0.0|          1.0|       1.0|           0.0|          1.0|\n",
            "+---+-----------+--------+---------+-------+-------+----+--------+--------+-----+--------+--------+-------+---------+-------------+---------------+-------------+----------+--------------+-------------+\n",
            "only showing top 20 rows\n",
            "\n"
          ]
        }
      ]
    },
    {
      "cell_type": "code",
      "source": [
        "one_hot_enconder = OneHotEncoder(\n",
        "    inputCols=['job_Index','marital_Index','education_Index','housing_Index',\n",
        "               'loan_Index','poutcome_Index','deposit_Index'],\n",
        "    outputCols=['job_onehot','martial_onehot','education_onehot',\n",
        "                'housing_onehot','loan_onehot','poutcome_onehot','deposit_onehot'])\n",
        "\n",
        "data = one_hot_enconder.fit(data).transform(data)\n",
        "\n",
        "data.select('job', 'job_Index', 'job_onehot','education','education_Index','education_onehot').show(10)"
      ],
      "metadata": {
        "colab": {
          "base_uri": "https://localhost:8080/"
        },
        "id": "VpYWottUCJmK",
        "outputId": "21c21fe5-7d55-4596-b72a-bb5b68542654"
      },
      "execution_count": 55,
      "outputs": [
        {
          "output_type": "stream",
          "name": "stdout",
          "text": [
            "+----------+---------+--------------+---------+---------------+----------------+\n",
            "|       job|job_Index|    job_onehot|education|education_Index|education_onehot|\n",
            "+----------+---------+--------------+---------+---------------+----------------+\n",
            "|    admin.|      3.0|(11,[3],[1.0])|secondary|            0.0|   (3,[0],[1.0])|\n",
            "|    admin.|      3.0|(11,[3],[1.0])|secondary|            0.0|   (3,[0],[1.0])|\n",
            "|technician|      2.0|(11,[2],[1.0])|secondary|            0.0|   (3,[0],[1.0])|\n",
            "|  services|      4.0|(11,[4],[1.0])|secondary|            0.0|   (3,[0],[1.0])|\n",
            "|    admin.|      3.0|(11,[3],[1.0])| tertiary|            1.0|   (3,[1],[1.0])|\n",
            "|management|      0.0|(11,[0],[1.0])| tertiary|            1.0|   (3,[1],[1.0])|\n",
            "|management|      0.0|(11,[0],[1.0])| tertiary|            1.0|   (3,[1],[1.0])|\n",
            "|   retired|      5.0|(11,[5],[1.0])|secondary|            0.0|   (3,[0],[1.0])|\n",
            "|technician|      2.0|(11,[2],[1.0])|secondary|            0.0|   (3,[0],[1.0])|\n",
            "|  services|      4.0|(11,[4],[1.0])|secondary|            0.0|   (3,[0],[1.0])|\n",
            "+----------+---------+--------------+---------+---------------+----------------+\n",
            "only showing top 10 rows\n",
            "\n"
          ]
        }
      ]
    },
    {
      "cell_type": "code",
      "source": [
        "data.show()"
      ],
      "metadata": {
        "colab": {
          "base_uri": "https://localhost:8080/"
        },
        "id": "kpRnvdHLFnvk",
        "outputId": "40888436-4bcc-4efc-d318-b79cb2328aa0"
      },
      "execution_count": 56,
      "outputs": [
        {
          "output_type": "stream",
          "name": "stdout",
          "text": [
            "+---+-----------+--------+---------+-------+-------+----+--------+--------+-----+--------+--------+-------+---------+-------------+---------------+-------------+----------+--------------+-------------+--------------+--------------+----------------+--------------+-------------+---------------+--------------+\n",
            "|age|        job| marital|education|balance|housing|loan|duration|campaign|pdays|previous|poutcome|deposit|job_Index|marital_Index|education_Index|housing_Index|loan_Index|poutcome_Index|deposit_Index|    job_onehot|martial_onehot|education_onehot|housing_onehot|  loan_onehot|poutcome_onehot|deposit_onehot|\n",
            "+---+-----------+--------+---------+-------+-------+----+--------+--------+-----+--------+--------+-------+---------+-------------+---------------+-------------+----------+--------------+-------------+--------------+--------------+----------------+--------------+-------------+---------------+--------------+\n",
            "| 59|     admin.| married|secondary|   2343|    yes|  no|    1042|       1|   -1|       0| unknown|    yes|      3.0|          0.0|            0.0|          1.0|       0.0|           0.0|          1.0|(11,[3],[1.0])| (2,[0],[1.0])|   (3,[0],[1.0])|     (1,[],[])|(1,[0],[1.0])|  (3,[0],[1.0])|     (1,[],[])|\n",
            "| 56|     admin.| married|secondary|     45|     no|  no|    1467|       1|   -1|       0| unknown|    yes|      3.0|          0.0|            0.0|          0.0|       0.0|           0.0|          1.0|(11,[3],[1.0])| (2,[0],[1.0])|   (3,[0],[1.0])| (1,[0],[1.0])|(1,[0],[1.0])|  (3,[0],[1.0])|     (1,[],[])|\n",
            "| 41| technician| married|secondary|   1270|    yes|  no|    1389|       1|   -1|       0| unknown|    yes|      2.0|          0.0|            0.0|          1.0|       0.0|           0.0|          1.0|(11,[2],[1.0])| (2,[0],[1.0])|   (3,[0],[1.0])|     (1,[],[])|(1,[0],[1.0])|  (3,[0],[1.0])|     (1,[],[])|\n",
            "| 55|   services| married|secondary|   2476|    yes|  no|     579|       1|   -1|       0| unknown|    yes|      4.0|          0.0|            0.0|          1.0|       0.0|           0.0|          1.0|(11,[4],[1.0])| (2,[0],[1.0])|   (3,[0],[1.0])|     (1,[],[])|(1,[0],[1.0])|  (3,[0],[1.0])|     (1,[],[])|\n",
            "| 54|     admin.| married| tertiary|    184|     no|  no|     673|       2|   -1|       0| unknown|    yes|      3.0|          0.0|            1.0|          0.0|       0.0|           0.0|          1.0|(11,[3],[1.0])| (2,[0],[1.0])|   (3,[1],[1.0])| (1,[0],[1.0])|(1,[0],[1.0])|  (3,[0],[1.0])|     (1,[],[])|\n",
            "| 42| management|  single| tertiary|      0|    yes| yes|     562|       2|   -1|       0| unknown|    yes|      0.0|          1.0|            1.0|          1.0|       1.0|           0.0|          1.0|(11,[0],[1.0])| (2,[1],[1.0])|   (3,[1],[1.0])|     (1,[],[])|    (1,[],[])|  (3,[0],[1.0])|     (1,[],[])|\n",
            "| 56| management| married| tertiary|    830|    yes| yes|    1201|       1|   -1|       0| unknown|    yes|      0.0|          0.0|            1.0|          1.0|       1.0|           0.0|          1.0|(11,[0],[1.0])| (2,[0],[1.0])|   (3,[1],[1.0])|     (1,[],[])|    (1,[],[])|  (3,[0],[1.0])|     (1,[],[])|\n",
            "| 60|    retired|divorced|secondary|    545|    yes|  no|    1030|       1|   -1|       0| unknown|    yes|      5.0|          2.0|            0.0|          1.0|       0.0|           0.0|          1.0|(11,[5],[1.0])|     (2,[],[])|   (3,[0],[1.0])|     (1,[],[])|(1,[0],[1.0])|  (3,[0],[1.0])|     (1,[],[])|\n",
            "| 37| technician| married|secondary|      1|    yes|  no|     608|       1|   -1|       0| unknown|    yes|      2.0|          0.0|            0.0|          1.0|       0.0|           0.0|          1.0|(11,[2],[1.0])| (2,[0],[1.0])|   (3,[0],[1.0])|     (1,[],[])|(1,[0],[1.0])|  (3,[0],[1.0])|     (1,[],[])|\n",
            "| 28|   services|  single|secondary|   5090|    yes|  no|    1297|       3|   -1|       0| unknown|    yes|      4.0|          1.0|            0.0|          1.0|       0.0|           0.0|          1.0|(11,[4],[1.0])| (2,[1],[1.0])|   (3,[0],[1.0])|     (1,[],[])|(1,[0],[1.0])|  (3,[0],[1.0])|     (1,[],[])|\n",
            "| 38|     admin.|  single|secondary|    100|    yes|  no|     786|       1|   -1|       0| unknown|    yes|      3.0|          1.0|            0.0|          1.0|       0.0|           0.0|          1.0|(11,[3],[1.0])| (2,[1],[1.0])|   (3,[0],[1.0])|     (1,[],[])|(1,[0],[1.0])|  (3,[0],[1.0])|     (1,[],[])|\n",
            "| 30|blue-collar| married|secondary|    309|    yes|  no|    1574|       2|   -1|       0| unknown|    yes|      1.0|          0.0|            0.0|          1.0|       0.0|           0.0|          1.0|(11,[1],[1.0])| (2,[0],[1.0])|   (3,[0],[1.0])|     (1,[],[])|(1,[0],[1.0])|  (3,[0],[1.0])|     (1,[],[])|\n",
            "| 29| management| married| tertiary|    199|    yes| yes|    1689|       4|   -1|       0| unknown|    yes|      0.0|          0.0|            1.0|          1.0|       1.0|           0.0|          1.0|(11,[0],[1.0])| (2,[0],[1.0])|   (3,[1],[1.0])|     (1,[],[])|    (1,[],[])|  (3,[0],[1.0])|     (1,[],[])|\n",
            "| 46|blue-collar|  single| tertiary|    460|    yes|  no|    1102|       2|   -1|       0| unknown|    yes|      1.0|          1.0|            1.0|          1.0|       0.0|           0.0|          1.0|(11,[1],[1.0])| (2,[1],[1.0])|   (3,[1],[1.0])|     (1,[],[])|(1,[0],[1.0])|  (3,[0],[1.0])|     (1,[],[])|\n",
            "| 31| technician|  single| tertiary|    703|    yes|  no|     943|       2|   -1|       0| unknown|    yes|      2.0|          1.0|            1.0|          1.0|       0.0|           0.0|          1.0|(11,[2],[1.0])| (2,[1],[1.0])|   (3,[1],[1.0])|     (1,[],[])|(1,[0],[1.0])|  (3,[0],[1.0])|     (1,[],[])|\n",
            "| 35| management|divorced| tertiary|   3837|    yes|  no|    1084|       1|   -1|       0| unknown|    yes|      0.0|          2.0|            1.0|          1.0|       0.0|           0.0|          1.0|(11,[0],[1.0])|     (2,[],[])|   (3,[1],[1.0])|     (1,[],[])|(1,[0],[1.0])|  (3,[0],[1.0])|     (1,[],[])|\n",
            "| 32|blue-collar|  single|  primary|    611|    yes|  no|     541|       3|   -1|       0| unknown|    yes|      1.0|          1.0|            2.0|          1.0|       0.0|           0.0|          1.0|(11,[1],[1.0])| (2,[1],[1.0])|   (3,[2],[1.0])|     (1,[],[])|(1,[0],[1.0])|  (3,[0],[1.0])|     (1,[],[])|\n",
            "| 49|   services| married|secondary|     -8|    yes|  no|    1119|       1|   -1|       0| unknown|    yes|      4.0|          0.0|            0.0|          1.0|       0.0|           0.0|          1.0|(11,[4],[1.0])| (2,[0],[1.0])|   (3,[0],[1.0])|     (1,[],[])|(1,[0],[1.0])|  (3,[0],[1.0])|     (1,[],[])|\n",
            "| 41|     admin.| married|secondary|     55|    yes|  no|    1120|       2|   -1|       0| unknown|    yes|      3.0|          0.0|            0.0|          1.0|       0.0|           0.0|          1.0|(11,[3],[1.0])| (2,[0],[1.0])|   (3,[0],[1.0])|     (1,[],[])|(1,[0],[1.0])|  (3,[0],[1.0])|     (1,[],[])|\n",
            "| 49|     admin.|divorced|secondary|    168|    yes| yes|     513|       1|   -1|       0| unknown|    yes|      3.0|          2.0|            0.0|          1.0|       1.0|           0.0|          1.0|(11,[3],[1.0])|     (2,[],[])|   (3,[0],[1.0])|     (1,[],[])|    (1,[],[])|  (3,[0],[1.0])|     (1,[],[])|\n",
            "+---+-----------+--------+---------+-------+-------+----+--------+--------+-----+--------+--------+-------+---------+-------------+---------------+-------------+----------+--------------+-------------+--------------+--------------+----------------+--------------+-------------+---------------+--------------+\n",
            "only showing top 20 rows\n",
            "\n"
          ]
        }
      ]
    },
    {
      "cell_type": "code",
      "source": [
        "\n",
        "assembler = VectorAssembler(inputCols=['age',\n",
        "                                       'job_Index',\n",
        "                                       'marital_Index',\n",
        "                                       'education_Index',\n",
        "                                       'balance',\n",
        "                                       'housing_Index',\n",
        "                                       'loan_Index',\n",
        "                                       'duration',\n",
        "                                       'campaign',\n",
        "                                       'pdays',\n",
        "                                       'previous',\n",
        "                                       'poutcome_Index',\n",
        "                                       'job_onehot',\n",
        "                                       'martial_onehot',\n",
        "                                       'housing_onehot',\n",
        "                                       'education_onehot',\n",
        "                                       'loan_onehot',\n",
        "                                       'poutcome_onehot'],\n",
        "                           outputCol='features')"
      ],
      "metadata": {
        "id": "s4rUzxtcFwYc"
      },
      "execution_count": 62,
      "outputs": []
    },
    {
      "cell_type": "code",
      "source": [
        "final_data = assembler.transform(data)"
      ],
      "metadata": {
        "id": "Oim9UlTSGzZk"
      },
      "execution_count": 63,
      "outputs": []
    },
    {
      "cell_type": "code",
      "source": [
        "final_data.select('features','deposit_Index').show()"
      ],
      "metadata": {
        "colab": {
          "base_uri": "https://localhost:8080/"
        },
        "id": "lel9eWrZG96z",
        "outputId": "d73a4b93-14e5-4522-cd7f-b525445d7d19"
      },
      "execution_count": 64,
      "outputs": [
        {
          "output_type": "stream",
          "name": "stdout",
          "text": [
            "+--------------------+-------------+\n",
            "|            features|deposit_Index|\n",
            "+--------------------+-------------+\n",
            "|(33,[0,1,4,5,7,8,...|          1.0|\n",
            "|(33,[0,1,4,7,8,9,...|          1.0|\n",
            "|(33,[0,1,4,5,7,8,...|          1.0|\n",
            "|(33,[0,1,4,5,7,8,...|          1.0|\n",
            "|(33,[0,1,3,4,7,8,...|          1.0|\n",
            "|(33,[0,2,3,5,6,7,...|          1.0|\n",
            "|(33,[0,3,4,5,6,7,...|          1.0|\n",
            "|(33,[0,1,2,4,5,7,...|          1.0|\n",
            "|(33,[0,1,4,5,7,8,...|          1.0|\n",
            "|(33,[0,1,2,4,5,7,...|          1.0|\n",
            "|(33,[0,1,2,4,5,7,...|          1.0|\n",
            "|(33,[0,1,4,5,7,8,...|          1.0|\n",
            "|(33,[0,3,4,5,6,7,...|          1.0|\n",
            "|(33,[0,1,2,3,4,5,...|          1.0|\n",
            "|(33,[0,1,2,3,4,5,...|          1.0|\n",
            "|(33,[0,2,3,4,5,7,...|          1.0|\n",
            "|(33,[0,1,2,3,4,5,...|          1.0|\n",
            "|(33,[0,1,4,5,7,8,...|          1.0|\n",
            "|(33,[0,1,4,5,7,8,...|          1.0|\n",
            "|(33,[0,1,2,4,5,6,...|          1.0|\n",
            "+--------------------+-------------+\n",
            "only showing top 20 rows\n",
            "\n"
          ]
        }
      ]
    },
    {
      "cell_type": "code",
      "source": [
        "model_df = final_data.select(['features','deposit_Index'])\n",
        "model_df = model_df.withColumnRenamed(\"deposit_Index\",\"label\")\n",
        "model_df.printSchema()"
      ],
      "metadata": {
        "colab": {
          "base_uri": "https://localhost:8080/"
        },
        "id": "gr_5PhG5HNjl",
        "outputId": "ea45a5d9-3fee-433d-e75d-74bcd376e470"
      },
      "execution_count": 65,
      "outputs": [
        {
          "output_type": "stream",
          "name": "stdout",
          "text": [
            "root\n",
            " |-- features: vector (nullable = true)\n",
            " |-- label: double (nullable = false)\n",
            "\n"
          ]
        }
      ]
    },
    {
      "cell_type": "code",
      "source": [
        "training_df, test_df = model_df.randomSplit([0.75,0.25])"
      ],
      "metadata": {
        "id": "gPDKmXUYHYI4"
      },
      "execution_count": 66,
      "outputs": []
    },
    {
      "cell_type": "code",
      "source": [
        "model = LogisticRegression().fit(training_df)\n",
        "model_summary = model.summary\n",
        "print(f'ACCURACY: {model_summary.accuracy}')\n",
        "print(f'AREA UNDER ROC: {model_summary.areaUnderROC}')"
      ],
      "metadata": {
        "colab": {
          "base_uri": "https://localhost:8080/"
        },
        "id": "KFpG88G8HhqF",
        "outputId": "8a55803c-77aa-452c-8dc5-65e87ded9e4f"
      },
      "execution_count": 68,
      "outputs": [
        {
          "output_type": "stream",
          "name": "stdout",
          "text": [
            "ACCURACY: 0.7995468638206534\n",
            "AREA UNDER ROC: 0.8806670492647813\n"
          ]
        }
      ]
    },
    {
      "cell_type": "code",
      "source": [
        "#Precision of both classes\n",
        "print(model_summary.precisionByLabel)"
      ],
      "metadata": {
        "colab": {
          "base_uri": "https://localhost:8080/"
        },
        "id": "qgVRVMxBIKco",
        "outputId": "843919b6-146f-4778-e83c-a1514fa4fd9c"
      },
      "execution_count": 73,
      "outputs": [
        {
          "output_type": "stream",
          "name": "stdout",
          "text": [
            "[0.7880135535789919, 0.8144104803493449]\n"
          ]
        }
      ]
    },
    {
      "cell_type": "code",
      "source": [
        "#Recall of both classes\n",
        "print(model_summary.recallByLabel)"
      ],
      "metadata": {
        "colab": {
          "base_uri": "https://localhost:8080/"
        },
        "id": "ZaTZRHU2IPQK",
        "outputId": "a65c6fa6-d784-482c-9084-c0e73a5eb28a"
      },
      "execution_count": 74,
      "outputs": [
        {
          "output_type": "stream",
          "name": "stdout",
          "text": [
            "[0.8454896614405817, 0.7488080301129235]\n"
          ]
        }
      ]
    },
    {
      "cell_type": "code",
      "source": [
        "#Get Predictions\n",
        "predictions = model.transform(test_df)\n",
        "predictions.select('label','prediction').show(50)"
      ],
      "metadata": {
        "colab": {
          "base_uri": "https://localhost:8080/"
        },
        "id": "5CC-PAgdIbCh",
        "outputId": "d8f59a7a-2176-4fa4-bd55-2ea98a34e382"
      },
      "execution_count": 77,
      "outputs": [
        {
          "output_type": "stream",
          "name": "stdout",
          "text": [
            "+-----+----------+\n",
            "|label|prediction|\n",
            "+-----+----------+\n",
            "|  0.0|       0.0|\n",
            "|  1.0|       0.0|\n",
            "|  0.0|       0.0|\n",
            "|  0.0|       0.0|\n",
            "|  1.0|       1.0|\n",
            "|  0.0|       0.0|\n",
            "|  1.0|       1.0|\n",
            "|  0.0|       0.0|\n",
            "|  1.0|       0.0|\n",
            "|  0.0|       0.0|\n",
            "|  0.0|       0.0|\n",
            "|  0.0|       0.0|\n",
            "|  0.0|       0.0|\n",
            "|  0.0|       0.0|\n",
            "|  1.0|       0.0|\n",
            "|  1.0|       1.0|\n",
            "|  0.0|       0.0|\n",
            "|  1.0|       1.0|\n",
            "|  1.0|       1.0|\n",
            "|  1.0|       1.0|\n",
            "|  0.0|       0.0|\n",
            "|  0.0|       1.0|\n",
            "|  0.0|       1.0|\n",
            "|  1.0|       0.0|\n",
            "|  1.0|       1.0|\n",
            "|  1.0|       1.0|\n",
            "|  0.0|       0.0|\n",
            "|  1.0|       1.0|\n",
            "|  1.0|       1.0|\n",
            "|  0.0|       0.0|\n",
            "|  0.0|       0.0|\n",
            "|  1.0|       1.0|\n",
            "|  1.0|       1.0|\n",
            "|  0.0|       0.0|\n",
            "|  0.0|       0.0|\n",
            "|  0.0|       1.0|\n",
            "|  1.0|       1.0|\n",
            "|  1.0|       1.0|\n",
            "|  0.0|       0.0|\n",
            "|  0.0|       0.0|\n",
            "|  0.0|       0.0|\n",
            "|  0.0|       0.0|\n",
            "|  1.0|       0.0|\n",
            "|  0.0|       0.0|\n",
            "|  0.0|       0.0|\n",
            "|  0.0|       0.0|\n",
            "|  0.0|       0.0|\n",
            "|  1.0|       1.0|\n",
            "|  1.0|       1.0|\n",
            "|  0.0|       0.0|\n",
            "+-----+----------+\n",
            "only showing top 50 rows\n",
            "\n"
          ]
        }
      ]
    }
  ]
}