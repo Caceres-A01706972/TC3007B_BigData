{
  "cells": [
    {
      "cell_type": "code",
      "source": [
        "#Bibliotecas para poder trabajar con Spark\n",
        "!sudo apt update\n",
        "!apt-get install openjdk-8-jdk-headless -qq > /dev/null\n",
        "!wget -q https://downloads.apache.org/spark/spark-3.5.0/spark-3.5.0-bin-hadoop3.tgz\n",
        "!tar xf spark-3.5.0-bin-hadoop3.tgz\n",
        "#Configuración de Spark con Python\n",
        "!pip install -q findspark\n",
        "!pip install pyspark\n",
        "\n",
        "#Estableciendo variable de entorno\n",
        "import os\n",
        "os.environ[\"JAVA_HOME\"] = \"/usr/lib/jvm/java-8-openjdk-amd64\"\n",
        "os.environ[\"SPARK_HOME\"] = \"/content/spark-3.5.0-bin-hadoop3\"\n",
        "\n",
        "#Buscando e inicializando la instalación de Spark\n",
        "import findspark\n",
        "findspark.init()\n",
        "findspark.find()"
      ],
      "metadata": {
        "colab": {
          "base_uri": "https://localhost:8080/",
          "height": 660
        },
        "id": "O7wQbG7CIf1f",
        "outputId": "bc76d9bd-f121-4c69-c590-2349e3e79047"
      },
      "id": "O7wQbG7CIf1f",
      "execution_count": 2,
      "outputs": [
        {
          "output_type": "stream",
          "name": "stdout",
          "text": [
            "\u001b[33m\r0% [Working]\u001b[0m\r            \rGet:1 http://security.ubuntu.com/ubuntu jammy-security InRelease [110 kB]\n",
            "Get:2 https://cloud.r-project.org/bin/linux/ubuntu jammy-cran40/ InRelease [3,626 B]\n",
            "Get:3 https://developer.download.nvidia.com/compute/cuda/repos/ubuntu2204/x86_64  InRelease [1,581 B]\n",
            "Get:4 https://ppa.launchpadcontent.net/c2d4u.team/c2d4u4.0+/ubuntu jammy InRelease [18.1 kB]\n",
            "Get:5 https://developer.download.nvidia.com/compute/cuda/repos/ubuntu2204/x86_64  Packages [591 kB]\n",
            "Get:6 http://security.ubuntu.com/ubuntu jammy-security/universe amd64 Packages [1,012 kB]\n",
            "Get:7 http://security.ubuntu.com/ubuntu jammy-security/main amd64 Packages [1,185 kB]\n",
            "Get:8 http://security.ubuntu.com/ubuntu jammy-security/restricted amd64 Packages [1,389 kB]\n",
            "Hit:9 https://ppa.launchpadcontent.net/deadsnakes/ppa/ubuntu jammy InRelease\n",
            "Get:10 https://ppa.launchpadcontent.net/graphics-drivers/ppa/ubuntu jammy InRelease [24.3 kB]\n",
            "Hit:11 https://ppa.launchpadcontent.net/ubuntugis/ppa/ubuntu jammy InRelease\n",
            "Get:12 https://ppa.launchpadcontent.net/c2d4u.team/c2d4u4.0+/ubuntu jammy/main Sources [2,231 kB]\n",
            "Get:13 https://ppa.launchpadcontent.net/c2d4u.team/c2d4u4.0+/ubuntu jammy/main amd64 Packages [1,145 kB]\n",
            "Get:14 https://ppa.launchpadcontent.net/graphics-drivers/ppa/ubuntu jammy/main amd64 Packages [39.5 kB]\n",
            "Hit:15 http://archive.ubuntu.com/ubuntu jammy InRelease\n",
            "Get:16 http://archive.ubuntu.com/ubuntu jammy-updates InRelease [119 kB]\n",
            "Get:17 http://archive.ubuntu.com/ubuntu jammy-backports InRelease [109 kB]\n",
            "Get:18 http://archive.ubuntu.com/ubuntu jammy-updates/main amd64 Packages [1,455 kB]\n",
            "Get:19 http://archive.ubuntu.com/ubuntu jammy-updates/universe amd64 Packages [1,278 kB]\n",
            "Fetched 10.7 MB in 16s (667 kB/s)\n",
            "Reading package lists... Done\n",
            "Building dependency tree... Done\n",
            "Reading state information... Done\n",
            "19 packages can be upgraded. Run 'apt list --upgradable' to see them.\n",
            "Collecting pyspark\n",
            "  Downloading pyspark-3.5.0.tar.gz (316.9 MB)\n",
            "\u001b[2K     \u001b[90m━━━━━━━━━━━━━━━━━━━━━━━━━━━━━━━━━━━━━━━━\u001b[0m \u001b[32m316.9/316.9 MB\u001b[0m \u001b[31m2.2 MB/s\u001b[0m eta \u001b[36m0:00:00\u001b[0m\n",
            "\u001b[?25h  Preparing metadata (setup.py) ... \u001b[?25l\u001b[?25hdone\n",
            "Requirement already satisfied: py4j==0.10.9.7 in /usr/local/lib/python3.10/dist-packages (from pyspark) (0.10.9.7)\n",
            "Building wheels for collected packages: pyspark\n",
            "  Building wheel for pyspark (setup.py) ... \u001b[?25l\u001b[?25hdone\n",
            "  Created wheel for pyspark: filename=pyspark-3.5.0-py2.py3-none-any.whl size=317425344 sha256=b8c176857c5b4ac0ee328d1456625e84085af600a2c09fcf6ac9b7431d11f3f1\n",
            "  Stored in directory: /root/.cache/pip/wheels/41/4e/10/c2cf2467f71c678cfc8a6b9ac9241e5e44a01940da8fbb17fc\n",
            "Successfully built pyspark\n",
            "Installing collected packages: pyspark\n",
            "Successfully installed pyspark-3.5.0\n"
          ]
        },
        {
          "output_type": "execute_result",
          "data": {
            "text/plain": [
              "'/content/spark-3.5.0-bin-hadoop3'"
            ],
            "application/vnd.google.colaboratory.intrinsic+json": {
              "type": "string"
            }
          },
          "metadata": {},
          "execution_count": 2
        }
      ]
    },
    {
      "cell_type": "code",
      "source": [
        "from google.colab import drive\n",
        "drive.mount('/content/drive')"
      ],
      "metadata": {
        "colab": {
          "base_uri": "https://localhost:8080/"
        },
        "id": "ODrGgGEyBqTR",
        "outputId": "42a71efc-8316-4a6f-99cc-78c7bb66cd9d"
      },
      "id": "ODrGgGEyBqTR",
      "execution_count": 3,
      "outputs": [
        {
          "output_type": "stream",
          "name": "stdout",
          "text": [
            "Mounted at /content/drive\n"
          ]
        }
      ]
    },
    {
      "cell_type": "code",
      "source": [
        "from pyspark.sql import SparkSession\n",
        "from pyspark.ml.feature import Tokenizer, StopWordsRemover, CountVectorizer, IDF\n",
        "from pyspark.ml.feature import StringIndexer\n",
        "from pyspark.ml.feature import VectorAssembler\n",
        "from pyspark.ml import Pipeline\n",
        "from pyspark.ml.linalg import Vectors\n",
        "from pyspark.ml.feature import VectorAssembler\n",
        "from pyspark.sql.types import DoubleType\n",
        "from pyspark.sql import Row\n",
        "from pyspark.sql.functions import col"
      ],
      "metadata": {
        "id": "tV2hnfX4EVgH"
      },
      "id": "tV2hnfX4EVgH",
      "execution_count": 9,
      "outputs": []
    },
    {
      "cell_type": "code",
      "source": [
        "# Iniciar la sesión de Spark\n",
        "spark = SparkSession.builder.appName(\"MovieRecommendations\").getOrCreate()"
      ],
      "metadata": {
        "id": "gz7as2bGEXYp"
      },
      "id": "gz7as2bGEXYp",
      "execution_count": 10,
      "outputs": []
    },
    {
      "cell_type": "code",
      "source": [
        "# Cargar datos desde un archivo CSV\n",
        "df = spark.read.csv(\"/content/drive/My Drive/Colab Notebooks/netflix_titles.csv\", header=True, inferSchema=True)\n",
        "df.show()"
      ],
      "metadata": {
        "colab": {
          "base_uri": "https://localhost:8080/"
        },
        "id": "vAoxeHYGEZuB",
        "outputId": "b394cab1-2975-4e65-e429-cbe38c0940e8"
      },
      "id": "vAoxeHYGEZuB",
      "execution_count": 31,
      "outputs": [
        {
          "output_type": "stream",
          "name": "stdout",
          "text": [
            "+--------+-------+--------------------+--------------------+--------------------+--------------------+-----------------+------------+--------+--------+--------------------+--------------------+\n",
            "| show_id|   type|               title|            director|                cast|             country|       date_added|release_year|  rating|duration|           listed_in|         description|\n",
            "+--------+-------+--------------------+--------------------+--------------------+--------------------+-----------------+------------+--------+--------+--------------------+--------------------+\n",
            "|81145628|  Movie|Norm of the North...|Richard Finn, Tim...|Alan Marriott, An...|United States, In...|September 9, 2019|        2019|   TV-PG|  90 min|Children & Family...|Before planning a...|\n",
            "|80117401|  Movie|Jandino: Whatever...|                NULL|    Jandino Asporaat|      United Kingdom|September 9, 2016|        2016|   TV-MA|  94 min|     Stand-Up Comedy|\"Jandino Asporaat...|\n",
            "|70234439|TV Show|  Transformers Prime|                NULL|Peter Cullen, Sum...|       United States|September 8, 2018|        2013|TV-Y7-FV|1 Season|            Kids' TV|With the help of ...|\n",
            "|80058654|TV Show|Transformers: Rob...|                NULL|Will Friedle, Dar...|       United States|September 8, 2018|        2016|   TV-Y7|1 Season|            Kids' TV|When a prison shi...|\n",
            "|80125979|  Movie|        #realityhigh|    Fernando Lebrija|Nesta Cooper, Kat...|       United States|September 8, 2017|        2017|   TV-14|  99 min|            Comedies|When nerdy high s...|\n",
            "|80163890|TV Show|             Apaches|                NULL|Alberto Ammann, E...|               Spain|September 8, 2017|        2016|   TV-MA|1 Season|Crime TV Shows, I...|A young journalis...|\n",
            "|70304989|  Movie|            Automata|         Gabe Ibáñez|Antonio Banderas,...|Bulgaria, United ...|September 8, 2017|        2014|       R| 110 min|International Mov...|In a dystopian fu...|\n",
            "|80164077|  Movie|Fabrizio Copano: ...|Rodrigo Toro, Fra...|     Fabrizio Copano|               Chile|September 8, 2017|        2017|   TV-MA|  60 min|     Stand-Up Comedy|Fabrizio Copano t...|\n",
            "|80117902|TV Show|        Fire Chasers|                NULL|                NULL|       United States|September 8, 2017|        2017|   TV-MA|1 Season|Docuseries, Scien...|As California's 2...|\n",
            "|70304990|  Movie|         Good People|   Henrik Ruben Genz|James Franco, Kat...|United States, Un...|September 8, 2017|        2014|       R|  90 min|Action & Adventur...|A struggling coup...|\n",
            "|80169755|  Movie|Joaquín Reyes: Un...|José Miguel Contr...|       Joaquín Reyes|                NULL|September 8, 2017|        2017|   TV-MA|  78 min|     Stand-Up Comedy|Comedian and cele...|\n",
            "|70299204|  Movie|Kidnapping Mr. He...|    Daniel Alfredson|Jim Sturgess, Sam...|Netherlands, Belg...|September 8, 2017|        2015|       R|  95 min|Action & Adventur...|\"When beer magnat...|\n",
            "|80182480|  Movie|Krish Trish and B...|                NULL|Damandeep Singh B...|                NULL|September 8, 2017|        2009|   TV-Y7|  58 min|Children & Family...|A team of minstre...|\n",
            "|80182483|  Movie|Krish Trish and B...|Munjal Shroff, Ti...|Damandeep Singh B...|                NULL|September 8, 2017|        2013|   TV-Y7|  62 min|Children & Family...|An artisan is che...|\n",
            "|80182596|  Movie|Krish Trish and B...|Munjal Shroff, Ti...|Damandeep Singh B...|                NULL|September 8, 2017|        2016|    TV-Y|  65 min|Children & Family...|A cat, monkey and...|\n",
            "|80182482|  Movie|Krish Trish and B...|        Tilak Shetty|Damandeep Singh B...|                NULL|September 8, 2017|        2012|   TV-Y7|  61 min|Children & Family...|In three comic-st...|\n",
            "|80182597|  Movie|Krish Trish and B...|        Tilak Shetty|Rishi Gambhir, Sm...|                NULL|September 8, 2017|        2017|   TV-Y7|  65 min|Children & Family...|A cat, monkey and...|\n",
            "|80182481|  Movie|Krish Trish and B...|                NULL|Damandeep Singh B...|                NULL|September 8, 2017|        2010|   TV-Y7|  58 min|Children & Family...|Animal minstrels ...|\n",
            "|80182621|  Movie|Krish Trish and B...|Munjal Shroff, Ti...|Damandeep Singh B...|                NULL|September 8, 2017|        2013|   TV-Y7|  60 min|Children & Family...|The consequences ...|\n",
            "|80057969|  Movie|                Love|          Gaspar Noé|Karl Glusman, Kla...|     France, Belgium|September 8, 2017|        2015|      NR| 135 min|Cult Movies, Dram...|A man in an unsat...|\n",
            "+--------+-------+--------------------+--------------------+--------------------+--------------------+-----------------+------------+--------+--------+--------------------+--------------------+\n",
            "only showing top 20 rows\n",
            "\n"
          ]
        }
      ]
    },
    {
      "cell_type": "code",
      "source": [
        "# Select the columns you need\n",
        "df = df.select(\"title\", \"description\")\n",
        "\n",
        "# Filter out rows with null descriptions\n",
        "df = df.filter(col(\"description\").isNotNull())\n",
        "df.show()"
      ],
      "metadata": {
        "colab": {
          "base_uri": "https://localhost:8080/"
        },
        "id": "OMkkNdmIEcGy",
        "outputId": "b038d0d3-a869-4e94-978d-f72d9f7ace09"
      },
      "id": "OMkkNdmIEcGy",
      "execution_count": 33,
      "outputs": [
        {
          "output_type": "stream",
          "name": "stdout",
          "text": [
            "+--------------------+--------------------+\n",
            "|               title|         description|\n",
            "+--------------------+--------------------+\n",
            "|Norm of the North...|Before planning a...|\n",
            "|Jandino: Whatever...|\"Jandino Asporaat...|\n",
            "|  Transformers Prime|With the help of ...|\n",
            "|Transformers: Rob...|When a prison shi...|\n",
            "|        #realityhigh|When nerdy high s...|\n",
            "|             Apaches|A young journalis...|\n",
            "|            Automata|In a dystopian fu...|\n",
            "|Fabrizio Copano: ...|Fabrizio Copano t...|\n",
            "|        Fire Chasers|As California's 2...|\n",
            "|         Good People|A struggling coup...|\n",
            "|Joaquín Reyes: Un...|Comedian and cele...|\n",
            "|Kidnapping Mr. He...|\"When beer magnat...|\n",
            "|Krish Trish and B...|A team of minstre...|\n",
            "|Krish Trish and B...|An artisan is che...|\n",
            "|Krish Trish and B...|A cat, monkey and...|\n",
            "|Krish Trish and B...|In three comic-st...|\n",
            "|Krish Trish and B...|A cat, monkey and...|\n",
            "|Krish Trish and B...|Animal minstrels ...|\n",
            "|Krish Trish and B...|The consequences ...|\n",
            "|                Love|A man in an unsat...|\n",
            "+--------------------+--------------------+\n",
            "only showing top 20 rows\n",
            "\n"
          ]
        }
      ]
    },
    {
      "cell_type": "code",
      "source": [
        "# Tokenize the descriptions\n",
        "tokenizer = Tokenizer(inputCol=\"description\", outputCol=\"words\")\n",
        "df = tokenizer.transform(df)\n",
        "df.show()"
      ],
      "metadata": {
        "colab": {
          "base_uri": "https://localhost:8080/"
        },
        "id": "DW56NsR2Efmy",
        "outputId": "386a6022-c24b-43cb-cf61-f9b47aa984e1"
      },
      "id": "DW56NsR2Efmy",
      "execution_count": 34,
      "outputs": [
        {
          "output_type": "stream",
          "name": "stdout",
          "text": [
            "+--------------------+--------------------+--------------------+\n",
            "|               title|         description|               words|\n",
            "+--------------------+--------------------+--------------------+\n",
            "|Norm of the North...|Before planning a...|[before, planning...|\n",
            "|Jandino: Whatever...|\"Jandino Asporaat...|[\"jandino, aspora...|\n",
            "|  Transformers Prime|With the help of ...|[with, the, help,...|\n",
            "|Transformers: Rob...|When a prison shi...|[when, a, prison,...|\n",
            "|        #realityhigh|When nerdy high s...|[when, nerdy, hig...|\n",
            "|             Apaches|A young journalis...|[a, young, journa...|\n",
            "|            Automata|In a dystopian fu...|[in, a, dystopian...|\n",
            "|Fabrizio Copano: ...|Fabrizio Copano t...|[fabrizio, copano...|\n",
            "|        Fire Chasers|As California's 2...|[as, california's...|\n",
            "|         Good People|A struggling coup...|[a, struggling, c...|\n",
            "|Joaquín Reyes: Un...|Comedian and cele...|[comedian, and, c...|\n",
            "|Kidnapping Mr. He...|\"When beer magnat...|[\"when, beer, mag...|\n",
            "|Krish Trish and B...|A team of minstre...|[a, team, of, min...|\n",
            "|Krish Trish and B...|An artisan is che...|[an, artisan, is,...|\n",
            "|Krish Trish and B...|A cat, monkey and...|[a, cat,, monkey,...|\n",
            "|Krish Trish and B...|In three comic-st...|[in, three, comic...|\n",
            "|Krish Trish and B...|A cat, monkey and...|[a, cat,, monkey,...|\n",
            "|Krish Trish and B...|Animal minstrels ...|[animal, minstrel...|\n",
            "|Krish Trish and B...|The consequences ...|[the, consequence...|\n",
            "|                Love|A man in an unsat...|[a, man, in, an, ...|\n",
            "+--------------------+--------------------+--------------------+\n",
            "only showing top 20 rows\n",
            "\n"
          ]
        }
      ]
    },
    {
      "cell_type": "code",
      "source": [
        "# Remove stop words\n",
        "remover = StopWordsRemover(inputCol=\"words\", outputCol=\"filtered_words\") # Create a StopWordsRemover object to remove common stop words from the 'words' column\n",
        "df = remover.transform(df) # Apply the StopWordsRemover to the DataFrame 'df' and create a new column 'filtered_words'\n",
        "df.show()"
      ],
      "metadata": {
        "colab": {
          "base_uri": "https://localhost:8080/"
        },
        "id": "pIpMT-HBEiOz",
        "outputId": "17fa4d4a-67e5-461c-c722-045c08b50185"
      },
      "id": "pIpMT-HBEiOz",
      "execution_count": 35,
      "outputs": [
        {
          "output_type": "stream",
          "name": "stdout",
          "text": [
            "+--------------------+--------------------+--------------------+--------------------+\n",
            "|               title|         description|               words|      filtered_words|\n",
            "+--------------------+--------------------+--------------------+--------------------+\n",
            "|Norm of the North...|Before planning a...|[before, planning...|[planning, awesom...|\n",
            "|Jandino: Whatever...|\"Jandino Asporaat...|[\"jandino, aspora...|[\"jandino, aspora...|\n",
            "|  Transformers Prime|With the help of ...|[with, the, help,...|[help, three, hum...|\n",
            "|Transformers: Rob...|When a prison shi...|[when, a, prison,...|[prison, ship, cr...|\n",
            "|        #realityhigh|When nerdy high s...|[when, nerdy, hig...|[nerdy, high, sch...|\n",
            "|             Apaches|A young journalis...|[a, young, journa...|[young, journalis...|\n",
            "|            Automata|In a dystopian fu...|[in, a, dystopian...|[dystopian, futur...|\n",
            "|Fabrizio Copano: ...|Fabrizio Copano t...|[fabrizio, copano...|[fabrizio, copano...|\n",
            "|        Fire Chasers|As California's 2...|[as, california's...|[california's, 20...|\n",
            "|         Good People|A struggling coup...|[a, struggling, c...|[struggling, coup...|\n",
            "|Joaquín Reyes: Un...|Comedian and cele...|[comedian, and, c...|[comedian, celebr...|\n",
            "|Kidnapping Mr. He...|\"When beer magnat...|[\"when, beer, mag...|[\"when, beer, mag...|\n",
            "|Krish Trish and B...|A team of minstre...|[a, team, of, min...|[team, minstrels,...|\n",
            "|Krish Trish and B...|An artisan is che...|[an, artisan, is,...|[artisan, cheated...|\n",
            "|Krish Trish and B...|A cat, monkey and...|[a, cat,, monkey,...|[cat,, monkey, do...|\n",
            "|Krish Trish and B...|In three comic-st...|[in, three, comic...|[three, comic-str...|\n",
            "|Krish Trish and B...|A cat, monkey and...|[a, cat,, monkey,...|[cat,, monkey, do...|\n",
            "|Krish Trish and B...|Animal minstrels ...|[animal, minstrel...|[animal, minstrel...|\n",
            "|Krish Trish and B...|The consequences ...|[the, consequence...|[consequences, tr...|\n",
            "|                Love|A man in an unsat...|[a, man, in, an, ...|[man, unsatisfyin...|\n",
            "+--------------------+--------------------+--------------------+--------------------+\n",
            "only showing top 20 rows\n",
            "\n"
          ]
        }
      ]
    },
    {
      "cell_type": "code",
      "source": [
        "# Create a CountVectorizer to convert tokenized words to a numerical vector\n",
        "# Specify a maximum vocabulary size of 10,000 words and a minimum document frequency of 2.0\n",
        "cv = CountVectorizer(inputCol=\"filtered_words\", outputCol=\"raw_features\", vocabSize=10000, minDF=2.0)\n",
        "\n",
        "# Create an IDF (Inverse Document Frequency) model to transform the raw features\n",
        "# into weighted features to emphasize important words\n",
        "idf = IDF(inputCol=\"raw_features\", outputCol=\"features\")\n",
        "\n",
        "# Create a pipeline to chain the CountVectorizer and IDF stages\n",
        "pipeline = Pipeline(stages=[cv, idf])"
      ],
      "metadata": {
        "id": "2Mxbk_4tEmb8"
      },
      "id": "2Mxbk_4tEmb8",
      "execution_count": 36,
      "outputs": []
    },
    {
      "cell_type": "code",
      "source": [
        "# Fit the pipeline model to the DataFrame\n",
        "pipeline_model = pipeline.fit(df)\n",
        "\n",
        "# Transform the DataFrame using the fitted pipeline model\n",
        "df = pipeline_model.transform(df)"
      ],
      "metadata": {
        "id": "sDf_nBphEoXI"
      },
      "id": "sDf_nBphEoXI",
      "execution_count": 37,
      "outputs": []
    },
    {
      "cell_type": "code",
      "source": [
        "df.show(5)"
      ],
      "metadata": {
        "colab": {
          "base_uri": "https://localhost:8080/"
        },
        "id": "TC_2uJboG_96",
        "outputId": "2b1cd1dd-af0f-4aa7-f4ab-e417b680ed76"
      },
      "id": "TC_2uJboG_96",
      "execution_count": 39,
      "outputs": [
        {
          "output_type": "stream",
          "name": "stdout",
          "text": [
            "+--------------------+--------------------+--------------------+--------------------+--------------------+--------------------+\n",
            "|               title|         description|               words|      filtered_words|        raw_features|            features|\n",
            "+--------------------+--------------------+--------------------+--------------------+--------------------+--------------------+\n",
            "|Norm of the North...|Before planning a...|[before, planning...|[planning, awesom...|(9572,[10,20,30,7...|(9572,[10,20,30,7...|\n",
            "|Jandino: Whatever...|\"Jandino Asporaat...|[\"jandino, aspora...|[\"jandino, aspora...|(9572,[45,208,229...|(9572,[45,208,229...|\n",
            "|  Transformers Prime|With the help of ...|[with, the, help,...|[help, three, hum...|(9572,[17,18,149,...|(9572,[17,18,149,...|\n",
            "|Transformers: Rob...|When a prison shi...|[when, a, prison,...|[prison, ship, cr...|(9572,[2,104,198,...|(9572,[2,104,198,...|\n",
            "|        #realityhigh|When nerdy high s...|[when, nerdy, hig...|[nerdy, high, sch...|(9572,[29,114,407...|(9572,[29,114,407...|\n",
            "+--------------------+--------------------+--------------------+--------------------+--------------------+--------------------+\n",
            "only showing top 5 rows\n",
            "\n"
          ]
        }
      ]
    },
    {
      "cell_type": "code",
      "source": [
        "# Calculate cosine similarity\n",
        "\n",
        "# Create a StringIndexer to assign unique numerical indices to movie titles\n",
        "indexer = StringIndexer(inputCol=\"title\", outputCol=\"title_index\")\n",
        "\n",
        "# Fit the StringIndexer to the DataFrame and transform it, adding a new \"title_index\" column\n",
        "indexed_df = indexer.fit(df).transform(df)"
      ],
      "metadata": {
        "id": "cr5e4PEPErPB"
      },
      "id": "cr5e4PEPErPB",
      "execution_count": 40,
      "outputs": []
    },
    {
      "cell_type": "code",
      "source": [
        "indexed_df.show(5)"
      ],
      "metadata": {
        "colab": {
          "base_uri": "https://localhost:8080/"
        },
        "id": "kqKk94BvHQDZ",
        "outputId": "33f03e1d-c364-492b-d011-539e22702962"
      },
      "id": "kqKk94BvHQDZ",
      "execution_count": 41,
      "outputs": [
        {
          "output_type": "stream",
          "name": "stdout",
          "text": [
            "+--------------------+--------------------+--------------------+--------------------+--------------------+--------------------+-----------+\n",
            "|               title|         description|               words|      filtered_words|        raw_features|            features|title_index|\n",
            "+--------------------+--------------------+--------------------+--------------------+--------------------+--------------------+-----------+\n",
            "|Norm of the North...|Before planning a...|[before, planning...|[planning, awesom...|(9572,[10,20,30,7...|(9572,[10,20,30,7...|     3633.0|\n",
            "|Jandino: Whatever...|\"Jandino Asporaat...|[\"jandino, aspora...|[\"jandino, aspora...|(9572,[45,208,229...|(9572,[45,208,229...|     2490.0|\n",
            "|  Transformers Prime|With the help of ...|[with, the, help,...|[help, three, hum...|(9572,[17,18,149,...|(9572,[17,18,149,...|     5698.0|\n",
            "|Transformers: Rob...|When a prison shi...|[when, a, prison,...|[prison, ship, cr...|(9572,[2,104,198,...|(9572,[2,104,198,...|     5702.0|\n",
            "|        #realityhigh|When nerdy high s...|[when, nerdy, hig...|[nerdy, high, sch...|(9572,[29,114,407...|(9572,[29,114,407...|       64.0|\n",
            "+--------------------+--------------------+--------------------+--------------------+--------------------+--------------------+-----------+\n",
            "only showing top 5 rows\n",
            "\n"
          ]
        }
      ]
    },
    {
      "cell_type": "code",
      "source": [
        "# Create a VectorAssembler to combine columns into a single feature vector\n",
        "assembler = VectorAssembler(inputCols=[\"title_index\", \"features\"], outputCol=\"all_features\")\n",
        "\n",
        "# Apply the VectorAssembler to the DataFrame 'indexed_df' and create a new column 'all_features'\n",
        "vectorized_df = assembler.transform(indexed_df)"
      ],
      "metadata": {
        "id": "G4om4LQiEtCy"
      },
      "id": "G4om4LQiEtCy",
      "execution_count": 42,
      "outputs": []
    },
    {
      "cell_type": "code",
      "source": [
        "# Create a new DataFrame that includes only the \"title\" and \"all_features\" columns\n",
        "similarity = vectorized_df.select(\"title\", \"all_features\")"
      ],
      "metadata": {
        "id": "C3umyBR-Evds"
      },
      "id": "C3umyBR-Evds",
      "execution_count": 43,
      "outputs": []
    },
    {
      "cell_type": "code",
      "source": [
        "similarity.show(5)"
      ],
      "metadata": {
        "colab": {
          "base_uri": "https://localhost:8080/"
        },
        "id": "6L13gIl1IcXF",
        "outputId": "1ae4e60b-6b5b-41fa-ef31-027448d5ed90"
      },
      "id": "6L13gIl1IcXF",
      "execution_count": 46,
      "outputs": [
        {
          "output_type": "stream",
          "name": "stdout",
          "text": [
            "+--------------------+--------------------+\n",
            "|               title|        all_features|\n",
            "+--------------------+--------------------+\n",
            "|Norm of the North...|(9573,[0,11,21,31...|\n",
            "|Jandino: Whatever...|(9573,[0,46,209,2...|\n",
            "|  Transformers Prime|(9573,[0,18,19,15...|\n",
            "|Transformers: Rob...|(9573,[0,3,105,19...|\n",
            "|        #realityhigh|(9573,[0,30,115,4...|\n",
            "+--------------------+--------------------+\n",
            "only showing top 5 rows\n",
            "\n"
          ]
        }
      ]
    },
    {
      "cell_type": "code",
      "source": [
        "# Function to recommend similar movies\n",
        "def recommend(movie_title, num_recommendations=5):\n",
        "    # Filter the 'similarity' DataFrame to find the movie data for the given 'movie_title'\n",
        "    movie_data = similarity.filter(similarity[\"title\"] == movie_title)\n",
        "\n",
        "    # Check if the movie with the given title exists\n",
        "    if movie_data.count() == 0:\n",
        "        print(f\"Movie '{movie_title}' not found.\")\n",
        "        return\n",
        "\n",
        "    # Extract the feature vector of the given movie\n",
        "    movie_features = movie_data.select(\"all_features\").first()[0]\n",
        "\n",
        "    # Filter out the given movie from the 'similarity' DataFrame\n",
        "    similarity_df = similarity.filter(similarity[\"title\"] != movie_title)\n",
        "\n",
        "    # Calculate the distance (cosine similarity) between the given movie and all other movies\n",
        "    similarity_df = similarity_df.rdd.map(lambda row: Row(title=row.title, distance=float(Vectors.squared_distance(row.all_features, movie_features))))\n",
        "\n",
        "    # Convert the RDD back to a DataFrame\n",
        "    similarity_df = spark.createDataFrame(similarity_df)\n",
        "\n",
        "    # Sort the movies by similarity distance in ascending order\n",
        "    similarity_df = similarity_df.sort(\"distance\")\n",
        "\n",
        "    # Select the top 'num_recommendations' similar movies\n",
        "    recommended_movies = similarity_df.limit(num_recommendations)\n",
        "\n",
        "    # Display the recommended movies\n",
        "    recommended_movies.show()"
      ],
      "metadata": {
        "id": "RmV9XhvqExxL"
      },
      "id": "RmV9XhvqExxL",
      "execution_count": 44,
      "outputs": []
    },
    {
      "cell_type": "code",
      "execution_count": 45,
      "id": "ae20e180",
      "metadata": {
        "colab": {
          "base_uri": "https://localhost:8080/"
        },
        "id": "ae20e180",
        "outputId": "f38c0fb7-5c93-463d-d5f2-081b6cc4cc52"
      },
      "outputs": [
        {
          "output_type": "stream",
          "name": "stdout",
          "text": [
            "+--------------------+-----------------+\n",
            "|               title|         distance|\n",
            "+--------------------+-----------------+\n",
            "|    Act of Vengeance|841.3747063173325|\n",
            "|          About Time|841.6759018595696|\n",
            "|Adam Devine: Best...|863.0761671116576|\n",
            "|           Abdo Mota|871.2622967678093|\n",
            "|Abominable Christmas|896.2754895487424|\n",
            "+--------------------+-----------------+\n",
            "\n"
          ]
        }
      ],
      "source": [
        "# EJEMPLO DE USO\n",
        "recommend(\"Accident\")"
      ]
    }
  ],
  "metadata": {
    "kernelspec": {
      "display_name": "Python 3",
      "language": "python",
      "name": "python3"
    },
    "language_info": {
      "codemirror_mode": {
        "name": "ipython",
        "version": 3
      },
      "file_extension": ".py",
      "mimetype": "text/x-python",
      "name": "python",
      "nbconvert_exporter": "python",
      "pygments_lexer": "ipython3",
      "version": "3.8.5"
    },
    "colab": {
      "provenance": []
    }
  },
  "nbformat": 4,
  "nbformat_minor": 5
}